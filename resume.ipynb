{
  "cells": [
    {
      "cell_type": "raw",
      "metadata": {},
      "source": [
        "---\n",
        "title: \"Resume\"\n",
        "---"
      ],
      "id": "bce2202c"
    },
    {
      "cell_type": "markdown",
      "metadata": {},
      "source": [
        "``` {css #collapseExample .collapse}\n",
        "<p>\n",
        "  <a class=\"btn btn-primary\" data-toggle=\"collapse\" href=\"#collapseExample\" role=\"button\" aria-expanded=\"false\" aria-controls=\"collapseExample\">\n",
        "    Link with href\n",
        "  </a>\n",
        "  <button class=\"btn btn-primary\" type=\"button\" data-toggle=\"collapse\" data-target=\"#collapseExample\" aria-expanded=\"false\" aria-controls=\"collapseExample\">\n",
        "    Button with data-target\n",
        "  </button>\n",
        "</p>\n",
        "```\n",
        "\n",
        "\n",
        "#### Science Officer {#sec-science-officer}\n",
        "\n",
        "Center for Infectious Diseases\n",
        "\n",
        "California Department of Public Health\n",
        "\n",
        "Medical Epidemiologists\n",
        "\n",
        "Communicable Disease Branch\n",
        "\n",
        "Colorado Department of Public Health and Environment\n",
        "\n",
        "Founder\n",
        "\n",
        "Salish Research Group"
      ],
      "id": "46e6eb33"
    }
  ],
  "metadata": {
    "kernelspec": {
      "display_name": "Python 3",
      "language": "python",
      "name": "python3"
    }
  },
  "nbformat": 4,
  "nbformat_minor": 5
}